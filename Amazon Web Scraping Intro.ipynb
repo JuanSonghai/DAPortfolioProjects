{
 "cells": [
  {
   "cell_type": "code",
   "execution_count": 10,
   "id": "b760051a",
   "metadata": {},
   "outputs": [],
   "source": [
    "# Import Libraries \n",
    "\n",
    "from bs4 import BeautifulSoup\n",
    "import requests\n",
    "import time\n",
    "import datetime\n",
    "\n",
    "import smtplib\n"
   ]
  },
  {
   "cell_type": "code",
   "execution_count": null,
   "id": "533e35ee",
   "metadata": {
    "scrolled": false
   },
   "outputs": [],
   "source": [
    "# Connect to Website and Pull Data\n",
    "\n",
    "URL = 'https://www.amazon.com/Funny-Data-Systems-Business-Analyst/dp/B07FNW9FGJ/ref=sr_1_3?crid=4IJ35N3DG2VM&keywords=data%2Banalyst%2Btshirt&qid=1689867942&sprefix=data%2Banalyst%2Btshirt%2Caps%2C116&sr=8-3'\n",
    "\n",
    "headers = {\"User-Agent\": \"Mozilla/5.0 (Windows NT 10.0; Win64; x64) AppleWebKit/537.36 (KHTML, like Gecko) Chrome/114.0.0.0 Safari/537.36\", \"Accept-Encoding\": \"gzip, deflate\", \"Accept\": \"text/html,application/xhtml+xml,application/xml;q=0.9,image/avif,image/webp,image/apng,*/*;q=0.8,application/signed-exchange;v=b3;q=0.7\", \"DNT\" : \"1\", \"Connection\": \"close\",\"Upgrade-Insecure-Requests\": \"1\"}\n",
    "\n",
    "page = requests.get(URL, headers= headers)\n",
    "\n",
    "soup1 = BeautifulSoup(page.content, \"html.parser\")\n",
    "\n",
    "soup2 = BeautifulSoup(soup1.prettify(), \"html.parser\")\n",
    "\n",
    "title = soup2.find(id='productTitle').get_text()\n",
    "\n",
    "price = soup2.find(id='delightPricingBadge_feature_div').get_text()\n",
    "\n",
    "print(title)\n",
    "print(price)"
   ]
  },
  {
   "cell_type": "code",
   "execution_count": 44,
   "id": "30a0e2f5",
   "metadata": {},
   "outputs": [
    {
     "name": "stdout",
     "output_type": "stream",
     "text": [
      "Funny Got Data MIS Data Systems Business Analyst T-Shirt\n"
     ]
    }
   ],
   "source": [
    "#Printing Price and Title in a neat format\n",
    "\n",
    "price = price.strip()[1:]\n",
    "\n",
    "title = title.strip()\n",
    "print(title)"
   ]
  },
  {
   "cell_type": "code",
   "execution_count": 37,
   "id": "037b7b7e",
   "metadata": {},
   "outputs": [
    {
     "name": "stdout",
     "output_type": "stream",
     "text": [
      "2023-07-20\n"
     ]
    }
   ],
   "source": [
    "#Including date of when Data is pulled\n",
    "\n",
    "import datetime\n",
    "\n",
    "today = datetime.date.today()\n",
    "\n",
    "print(today)"
   ]
  },
  {
   "cell_type": "code",
   "execution_count": 49,
   "id": "71e51f15",
   "metadata": {},
   "outputs": [],
   "source": [
    "# Creating a CSV with the data pulled\n",
    "\n",
    "import csv\n",
    "\n",
    "header = ['Title', 'Price','Date']\n",
    "\n",
    "data = [title, price, today]\n",
    "\n",
    "#with open('AmazonWebScraping1.csv', 'w', newline = '', encoding='UTF8') as f:\n",
    "    #writer = csv.writer(f)\n",
    "    #writer.writerow(header)\n",
    "    #writer.writerow(data)\n",
    "    "
   ]
  },
  {
   "cell_type": "code",
   "execution_count": null,
   "id": "87fefe45",
   "metadata": {},
   "outputs": [],
   "source": [
    "import pandas as pd\n",
    "\n",
    "df = pd.read_csv(r'C:\\Users\\Juan Songhai\\AmazonWebScraping1.csv' )\n",
    "\n",
    "print(df)"
   ]
  },
  {
   "cell_type": "code",
   "execution_count": 55,
   "id": "d02582e8",
   "metadata": {},
   "outputs": [],
   "source": [
    "# Appending data to CSV\n",
    "\n",
    "with open('AmazonWebScraping1.csv', 'w', newline = '', encoding='UTF8') as f:\n",
    "    writer = csv.writer(f)\n",
    "    writer.writerow(data)"
   ]
  },
  {
   "cell_type": "code",
   "execution_count": 57,
   "id": "e806eb44",
   "metadata": {},
   "outputs": [],
   "source": [
    "#Creating a function titled Check_price\n",
    "\n",
    "def check_price():\n",
    "    URL = 'https://www.amazon.com/Funny-Data-Systems-Business-Analyst/dp/B07FNW9FGJ/ref=sr_1_3?crid=4IJ35N3DG2VM&keywords=data%2Banalyst%2Btshirt&qid=1689867942&sprefix=data%2Banalyst%2Btshirt%2Caps%2C116&sr=8-3'\n",
    "\n",
    "    headers = {\"User-Agent\": \"Mozilla/5.0 (Windows NT 10.0; Win64; x64) AppleWebKit/537.36 (KHTML, like Gecko) Chrome/114.0.0.0 Safari/537.36\", \"Accept-Encoding\": \"gzip, deflate\", \"Accept\": \"text/html,application/xhtml+xml,application/xml;q=0.9,image/avif,image/webp,image/apng,*/*;q=0.8,application/signed-exchange;v=b3;q=0.7\", \"DNT\" : \"1\", \"Connection\": \"close\",\"Upgrade-Insecure-Requests\": \"1\"}\n",
    "\n",
    "    page = requests.get(URL, headers= headers)\n",
    "\n",
    "    soup1 = BeautifulSoup(page.content, \"html.parser\")\n",
    "\n",
    "    soup2 = BeautifulSoup(soup1.prettify(), \"html.parser\")\n",
    "\n",
    "    title = soup2.find(id='productTitle').get_text()\n",
    "\n",
    "    price = soup2.find(id='delightPricingBadge_feature_div').get_text()\n",
    "    \n",
    "    price = price.strip()[1:]\n",
    "\n",
    "    title = title.strip()\n",
    "\n",
    "    import datetime\n",
    "\n",
    "    today = datetime.date.today()\n",
    "    \n",
    "    import csv\n",
    "    header = ['Title', 'Price','Date']\n",
    "    data = [title, price, today]\n",
    "    \n",
    "    with open('AmazonWebScraping1.csv', 'w', newline = '', encoding='UTF8') as f:\n",
    "        writer = csv.writer(f)\n",
    "        writer.writerow(data)\n",
    "        \n",
    "#---------------------  Price Alert-----------------------------\n",
    "    \n",
    "# def send_mail():\n",
    "        #server = smtplib.SMTP_SSL ('smtp.gmail.com', 465)\n",
    "        #server.ehlo()\n",
    "        #server.starttls()\n",
    "        #server.login('juan.songhai@gmail.com', 'xxxxxxxxxxxxxxxxxxxxx')\n",
    "        \n",
    "        #subject = \"The shirt you want is below $15! Now is the time to buy!\"\n",
    "        #body = \"Juan, This is the price you have been waiting to see. Don't miss out\"\n",
    "        #msg = f\"Subject: {subject}\\n\\n{body}\n",
    "        \n",
    "        #server, sendmail(\n",
    "           # 'Juan.songhai@gmail.com',\n",
    "          #  msg\n",
    "      #  )\n",
    "    \n",
    "        #if(price < 14):\n",
    "           # send_mail()"
   ]
  },
  {
   "cell_type": "code",
   "execution_count": null,
   "id": "d7708ef1",
   "metadata": {},
   "outputs": [],
   "source": [
    "#Check your data Automatically\n",
    "\n",
    "while (True):\n",
    "    check_price()\n",
    "    time.sleep(86400)"
   ]
  },
  {
   "cell_type": "code",
   "execution_count": null,
   "id": "5e97a938",
   "metadata": {},
   "outputs": [],
   "source": [
    "import pandas as pd\n",
    "\n",
    "df = pd.read_csv(r'C:\\Users\\Juan Songhai\\AmazonWebScraping1.csv' )\n",
    "\n",
    "print(df)"
   ]
  },
  {
   "cell_type": "code",
   "execution_count": null,
   "id": "eb6cb301",
   "metadata": {},
   "outputs": [],
   "source": []
  }
 ],
 "metadata": {
  "kernelspec": {
   "display_name": "Python 3 (ipykernel)",
   "language": "python",
   "name": "python3"
  },
  "language_info": {
   "codemirror_mode": {
    "name": "ipython",
    "version": 3
   },
   "file_extension": ".py",
   "mimetype": "text/x-python",
   "name": "python",
   "nbconvert_exporter": "python",
   "pygments_lexer": "ipython3",
   "version": "3.11.3"
  }
 },
 "nbformat": 4,
 "nbformat_minor": 5
}
